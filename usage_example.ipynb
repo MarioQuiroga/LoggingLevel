{
 "metadata": {
  "language_info": {
   "codemirror_mode": {
    "name": "ipython",
    "version": 3
   },
   "file_extension": ".py",
   "mimetype": "text/x-python",
   "name": "python",
   "nbconvert_exporter": "python",
   "pygments_lexer": "ipython3",
   "version": 3
  },
  "orig_nbformat": 2
 },
 "nbformat": 4,
 "nbformat_minor": 2,
 "cells": [
  {
   "source": [
    "## Simple Usage Example"
   ],
   "cell_type": "markdown",
   "metadata": {}
  },
  {
   "cell_type": "code",
   "execution_count": null,
   "metadata": {},
   "outputs": [],
   "source": [
    "import os\n",
    "import src.LoggingLevel.py\n",
    "\n",
    "# Define level environment variable\n",
    "os.environ['env'] = 'DEBUG'\n",
    "\n",
    "# Create object for use\n",
    "log = Logging('DEBUG') # Set current level\n",
    "\n",
    "# Using the object\n",
    "log.log('Testing log.')\n",
    "log.log('Testing log.', 'file.py')\n",
    "log.log('Testing log.', 'file.py', 'function1')"
   ]
  }
 ]
}