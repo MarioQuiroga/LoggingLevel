{
 "cells": [
  {
   "cell_type": "markdown",
   "metadata": {},
   "source": [
    "## Simple Usage Example"
   ]
  },
  {
   "cell_type": "code",
   "execution_count": 3,
   "metadata": {},
   "outputs": [
    {
     "name": "stdout",
     "output_type": "stream",
     "text": [
      "[2020-11-01 00:07:53] [INFO] [---] [---] Testing log.\n",
      "[2020-11-01 00:07:53] [INFO] [file.py] [---] Testing log.\n",
      "[2020-11-01 00:07:53] [INFO] [file.py] [function1] Testing log.\n",
      "[2020-11-01 00:07:53] [INFO] [---] [---] 12345\n"
     ]
    }
   ],
   "source": [
    "import os\n",
    "from LoggingLevel import LoggingLevel\n",
    "\n",
    "# Define level environment variable\n",
    "os.environ['env'] = 'INFO'\n",
    "\n",
    "# Create object for use\n",
    "log = LoggingLevel('INFO') # Set current level (default='WARNING')\n",
    "\n",
    "# Set output file (if not specified, not write in file)\n",
    "log.set_output_file('output_log.txt')\n",
    "\n",
    "# Using tool\n",
    "log.log('Testing log.')\n",
    "log.log('Testing log.', 'file.py')\n",
    "log.log('Testing log.', 'file.py', 'function1')\n",
    "var = 12345\n",
    "log.log('{}'.format(var))\n",
    "\n",
    "# Creating other logging\n",
    "other_log = LoggingLevel('DEBUG')\n",
    "other_log.log('Text from other_log')"
   ]
  },
  {
   "cell_type": "code",
   "execution_count": 2,
   "metadata": {},
   "outputs": [
    {
     "data": {
      "text/plain": [
       "['DEBUG', 'INFO', 'WARNING', 'ERROR', 'CRITICAL']"
      ]
     },
     "execution_count": 2,
     "metadata": {},
     "output_type": "execute_result"
    }
   ],
   "source": [
    "LoggingLevel.levels"
   ]
  }
 ],
 "metadata": {
  "kernelspec": {
   "display_name": "Python 3",
   "language": "python",
   "name": "python3"
  },
  "language_info": {
   "codemirror_mode": {
    "name": "ipython",
    "version": 3
   },
   "file_extension": ".py",
   "mimetype": "text/x-python",
   "name": "python",
   "nbconvert_exporter": "python",
   "pygments_lexer": "ipython3",
   "version": "3.8.6"
  }
 },
 "nbformat": 4,
 "nbformat_minor": 2
}
