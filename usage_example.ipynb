{
 "cells": [
  {
   "cell_type": "markdown",
   "metadata": {},
   "source": [
    "## Simple Usage Example"
   ]
  },
  {
   "cell_type": "code",
   "execution_count": 2,
   "metadata": {},
   "outputs": [
    {
     "name": "stdout",
     "output_type": "stream",
     "text": [
      "[2020-10-31 00:54:42] [DEBUG] [---] [---] Testing log.\n",
      "[2020-10-31 00:54:42] [DEBUG] [file.py] [---] Testing log.\n",
      "[2020-10-31 00:54:42] [DEBUG] [file.py] [function1] Testing log.\n"
     ]
    }
   ],
   "source": [
    "import os\n",
    "from src.LoggingLevel import *\n",
    "\n",
    "# Define level environment variable\n",
    "os.environ['env'] = 'DEBUG'\n",
    "\n",
    "# Create object for use\n",
    "log = Logging('DEBUG') # Set current level\n",
    "\n",
    "# Set output file\n",
    "log.set_output_file('output_log.txt')\n",
    "\n",
    "# Using tool\n",
    "log.log('Testing log.')\n",
    "log.log('Testing log.', 'file.py')\n",
    "log.log('Testing log.', 'file.py', 'function1')"
   ]
  }
 ],
 "metadata": {
  "kernelspec": {
   "display_name": "Python 3",
   "language": "python",
   "name": "python3"
  },
  "language_info": {
   "codemirror_mode": {
    "name": "ipython",
    "version": 3
   },
   "file_extension": ".py",
   "mimetype": "text/x-python",
   "name": "python",
   "nbconvert_exporter": "python",
   "pygments_lexer": "ipython3",
   "version": "3.8.6"
  }
 },
 "nbformat": 4,
 "nbformat_minor": 2
}
